{
  "nbformat": 4,
  "nbformat_minor": 0,
  "metadata": {
    "colab": {
      "provenance": [],
      "mount_file_id": "1ZgapQqjOVi_K2KI3BajnOckjtSPQ5FDK",
      "authorship_tag": "ABX9TyO9+h5o3WeBm1qmJ+a3leR1",
      "include_colab_link": true
    },
    "kernelspec": {
      "name": "python3",
      "display_name": "Python 3"
    },
    "language_info": {
      "name": "python"
    }
  },
  "cells": [
    {
      "cell_type": "markdown",
      "metadata": {
        "id": "view-in-github",
        "colab_type": "text"
      },
      "source": [
        "<a href=\"https://colab.research.google.com/github/devansh-shah-11/NeMo/blob/main/VAD.ipynb\" target=\"_parent\"><img src=\"https://colab.research.google.com/assets/colab-badge.svg\" alt=\"Open In Colab\"/></a>"
      ]
    },
    {
      "cell_type": "code",
      "execution_count": 1,
      "metadata": {
        "colab": {
          "base_uri": "https://localhost:8080/"
        },
        "id": "bdrvom_qZhYF",
        "outputId": "8ddc682a-c796-41de-d6d1-95582cfaa132"
      },
      "outputs": [
        {
          "output_type": "stream",
          "name": "stdout",
          "text": [
            "Requirement already satisfied: webrtcvad in /usr/local/lib/python3.10/dist-packages (2.0.10)\n",
            "Requirement already satisfied: pydub in /usr/local/lib/python3.10/dist-packages (0.25.1)\n"
          ]
        }
      ],
      "source": [
        "# Installing the Neccessary Libraries\n",
        "!pip install webrtcvad\n",
        "!pip install pydub"
      ]
    },
    {
      "cell_type": "code",
      "source": [
        "# Importing the Required Libraries\n",
        "import webrtcvad\n",
        "import collections\n",
        "import contextlib\n",
        "import sys\n",
        "import wave\n",
        "from pydub import AudioSegment"
      ],
      "metadata": {
        "id": "F3h27tEiZkCQ"
      },
      "execution_count": 2,
      "outputs": []
    },
    {
      "cell_type": "code",
      "source": [
        "# Creating instance of webrtcvad.Vad\n",
        "vad = webrtcvad.Vad()"
      ],
      "metadata": {
        "id": "U1ZU9v5yQn0L"
      },
      "execution_count": 3,
      "outputs": []
    },
    {
      "cell_type": "code",
      "source": [
        "def read_wave(path):\n",
        "    \"\"\"Takes the wav file path as input, and returns (PCM audio data, sample rate).\"\"\"\n",
        "    with contextlib.closing(wave.open(path, 'rb')) as wf:\n",
        "        num_channels = wf.getnchannels()\n",
        "        assert num_channels == 1\n",
        "        sample_width = wf.getsampwidth()\n",
        "        assert sample_width == 2\n",
        "        sample_rate = wf.getframerate()\n",
        "        print(\"Sample Rate: \",sample_rate)\n",
        "        assert sample_rate in (8000, 16000, 32000, 48000)\n",
        "        pcm_data = wf.readframes(wf.getnframes())\n",
        "        return pcm_data, sample_rate"
      ],
      "metadata": {
        "id": "G-UxEDaVQiTw"
      },
      "execution_count": 4,
      "outputs": []
    },
    {
      "cell_type": "code",
      "source": [
        "def write_wave(path, audio, sample_rate):\n",
        "    \"\"\"Takes path, PCM audio data, and sample rate as input and writes a .wav file.\"\"\"\n",
        "    with contextlib.closing(wave.open(path, 'wb')) as wf:\n",
        "        wf.setnchannels(1)\n",
        "        wf.setsampwidth(2)\n",
        "        wf.setframerate(sample_rate)\n",
        "        wf.writeframes(audio)"
      ],
      "metadata": {
        "id": "qCL1-lYiS0Nk"
      },
      "execution_count": 5,
      "outputs": []
    },
    {
      "cell_type": "code",
      "source": [
        "class Frame(object):\n",
        "    \"\"\"Represents a \"frame\" of audio data.\"\"\"\n",
        "    def __init__(self, bytes, timestamp, duration):\n",
        "        self.bytes = bytes\n",
        "        self.timestamp = timestamp\n",
        "        self.duration = duration"
      ],
      "metadata": {
        "id": "uCwf3I2eQaJs"
      },
      "execution_count": 6,
      "outputs": []
    },
    {
      "cell_type": "code",
      "source": [
        "def frame_generator(frame_duration_ms, audio, sample_rate):\n",
        "    \"\"\"Generates audio frames from PCM audio data.\n",
        "\n",
        "    Takes the desired frame duration in milliseconds, the PCM data, and\n",
        "    the sample rate.\n",
        "\n",
        "    Yields Frames of the requested duration.\n",
        "    \"\"\"\n",
        "    n = int(sample_rate * (frame_duration_ms / 1000.0) * 2)\n",
        "    offset = 0\n",
        "    timestamp = 0.0\n",
        "    duration = (float(n) / sample_rate) / 2.0\n",
        "    while offset + n < len(audio):\n",
        "        yield Frame(audio[offset:offset + n], timestamp, duration)\n",
        "        timestamp += duration\n",
        "        offset += n"
      ],
      "metadata": {
        "id": "wEHKleJ2QS6B"
      },
      "execution_count": 7,
      "outputs": []
    },
    {
      "cell_type": "code",
      "source": [
        "def vad_collector(sample_rate, frame_duration_ms,\n",
        "                  padding_duration_ms, vad, frames):\n",
        "    \"\"\"Filters out non-voiced audio frames.\n",
        "\n",
        "    Given a webrtcvad.Vad and a source of audio frames, yields only\n",
        "    the voiced audio.\n",
        "\n",
        "    Uses a padded, sliding window algorithm over the audio frames.\n",
        "    When more than 90% of the frames in the window are voiced (as\n",
        "    reported by the VAD), the collector triggers and begins yielding\n",
        "    audio frames. Then the collector waits until 90% of the frames in\n",
        "    the window are unvoiced to detrigger.\n",
        "\n",
        "    The window is padded at the front and back to provide a small\n",
        "    amount of silence or the beginnings/endings of speech around the\n",
        "    voiced frames.\n",
        "\n",
        "    Arguments:\n",
        "\n",
        "    sample_rate - The audio sample rate, in Hz.\n",
        "    frame_duration_ms - The frame duration in milliseconds.\n",
        "    padding_duration_ms - The amount to pad the window, in milliseconds.\n",
        "    vad - An instance of webrtcvad.Vad.\n",
        "    frames - a source of audio frames (sequence or generator).\n",
        "\n",
        "    Returns: A generator that yields PCM audio data.\n",
        "    \"\"\"\n",
        "    num_padding_frames = int(padding_duration_ms / frame_duration_ms)\n",
        "    # We use a deque for our sliding window/ring buffer.\n",
        "    ring_buffer = collections.deque(maxlen=num_padding_frames)\n",
        "    # We have two states: TRIGGERED and NOTTRIGGERED. We start in the\n",
        "    # NOTTRIGGERED state.\n",
        "    triggered = False\n",
        "\n",
        "    voiced_frames = []\n",
        "    for frame in frames:\n",
        "        is_speech = vad.is_speech(frame.bytes, sample_rate)\n",
        "\n",
        "        sys.stdout.write('1' if is_speech else '0')\n",
        "        if not triggered:\n",
        "            ring_buffer.append((frame, is_speech))\n",
        "            num_voiced = len([f for f, speech in ring_buffer if speech])\n",
        "            # If we're NOTTRIGGERED and more than 90% of the frames in\n",
        "            # the ring buffer are voiced frames, then enter the\n",
        "            # TRIGGERED state.\n",
        "            if num_voiced > 0.9 * ring_buffer.maxlen:\n",
        "                triggered = True\n",
        "                sys.stdout.write('+(%s)' % (ring_buffer[0][0].timestamp,))\n",
        "                # We want to yield all the audio we see from now until\n",
        "                # we are NOTTRIGGERED, but we have to start with the\n",
        "                # audio that's already in the ring buffer.\n",
        "                for f, s in ring_buffer:\n",
        "                    voiced_frames.append(f)\n",
        "                ring_buffer.clear()\n",
        "        else:\n",
        "            # We're in the TRIGGERED state, so collect the audio data\n",
        "            # and add it to the ring buffer.\n",
        "            voiced_frames.append(frame)\n",
        "            ring_buffer.append((frame, is_speech))\n",
        "            num_unvoiced = len([f for f, speech in ring_buffer if not speech])\n",
        "            # If more than 90% of the frames in the ring buffer are\n",
        "            # unvoiced, then enter NOTTRIGGERED and yield whatever\n",
        "            # audio we've collected.\n",
        "            if num_unvoiced > 0.9 * ring_buffer.maxlen:\n",
        "                sys.stdout.write('-(%s)' % (frame.timestamp + frame.duration))\n",
        "                triggered = False\n",
        "                yield b''.join([f.bytes for f in voiced_frames])\n",
        "                ring_buffer.clear()\n",
        "                voiced_frames = []\n",
        "    if triggered:\n",
        "        sys.stdout.write('-(%s)' % (frame.timestamp + frame.duration))\n",
        "    sys.stdout.write('\\n')\n",
        "    # If we have any leftover voiced audio when we run out of input,\n",
        "    # yield it.\n",
        "    if voiced_frames:\n",
        "        yield b''.join([f.bytes for f in voiced_frames])"
      ],
      "metadata": {
        "id": "y-QwdTwVQz1p"
      },
      "execution_count": 8,
      "outputs": []
    },
    {
      "cell_type": "code",
      "source": [
        "def set_sample_rate(filepath, export_path):\n",
        "    sound = AudioSegment.from_file(filepath, format='wav')\n",
        "    sound = sound.set_frame_rate(16000)\n",
        "    sound.export(export_path, format='wav')"
      ],
      "metadata": {
        "id": "A0Cfc1UBVUfO"
      },
      "execution_count": 9,
      "outputs": []
    },
    {
      "cell_type": "code",
      "source": [
        "def main(args):\n",
        "    if len(args) != 4:\n",
        "        sys.stderr.write(\n",
        "            'Usage: example.py <aggressiveness> <path to wav file> <input_file_path> <output_file_path> \\n')\n",
        "        sys.exit(1)\n",
        "    set_sample_rate(args[2],args[1])\n",
        "    audio, sample_rate = read_wave(args[1])\n",
        "    vad = webrtcvad.Vad(int(args[0]))\n",
        "    frames = frame_generator(30, audio, sample_rate)\n",
        "    frames = list(frames)\n",
        "    segments = vad_collector(sample_rate, 30, 300, vad, frames)\n",
        "    infiles = []\n",
        "    for i, segment in enumerate(segments):\n",
        "        path = 'chunk-%002d.wav' % (i,)\n",
        "        print(' Writing %s' % (path,))\n",
        "        write_wave(path, segment, sample_rate)\n",
        "        infiles.append(path)\n",
        "    data= []\n",
        "    for infile in infiles:\n",
        "        w = wave.open(infile, 'rb')\n",
        "        data.append( [w.getparams(), w.readframes(w.getnframes())] )\n",
        "        w.close()\n",
        "\n",
        "    output = wave.open(args[3], 'wb')\n",
        "    output.setparams(data[0][0])\n",
        "    for i in range(len(data)):\n",
        "        output.writeframes(data[i][1])\n",
        "    output.close()\n",
        "\n",
        "if __name__ == '__main__':\n",
        "    main([3,'/content/audio1.wav', '/content/paryushan-2019_Patrank522-Pravachan1-Part1_segment104.wav', '/content/sounds.wav'])"
      ],
      "metadata": {
        "colab": {
          "base_uri": "https://localhost:8080/"
        },
        "id": "T84yLP9JQ9Ra",
        "outputId": "77826692-370d-4794-eae2-e216e98c6d2b"
      },
      "execution_count": 10,
      "outputs": [
        {
          "output_type": "stream",
          "name": "stdout",
          "text": [
            "Sample Rate:  16000\n",
            "1110000000011101111111111+(0.4500000000000002)11111111111111111111111111111111111111110000000000-(2.25) Writing chunk-00.wav\n",
            "000000000000000000000000000000000000000000000001111111111+(3.659999999999991)11111111111111111111111111111111111111111111111111111110000000000-(5.910000000000005) Writing chunk-01.wav\n",
            "00000000000001111111111+(6.300000000000008)11111111111111111111111111111111111111111111111111111111111111111001111111111111111111111111111111111111111111111-(9.989999999999979)\n",
            " Writing chunk-02.wav\n"
          ]
        }
      ]
    }
  ]
}